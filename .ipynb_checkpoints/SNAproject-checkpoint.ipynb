{
 "cells": [
  {
   "cell_type": "code",
   "execution_count": 16,
   "id": "b09c7ff8",
   "metadata": {},
   "outputs": [],
   "source": [
    "#Import dpendencies\n",
    "\n",
    "import pandas as pd\n",
    "import re\n",
    "\n",
    "import requests\n",
    "import sys\n",
    "from bs4 import BeautifulSoup as bs\n",
    "\n",
    "#pip install linkedin-scraper"
   ]
  },
  {
   "cell_type": "code",
   "execution_count": 17,
   "id": "a3493f1c",
   "metadata": {},
   "outputs": [
    {
     "data": {
      "text/plain": [
       "'https://www.linkedin.com/in/mahathi-v-0563b6121/'"
      ]
     },
     "execution_count": 17,
     "metadata": {},
     "output_type": "execute_result"
    }
   ],
   "source": [
    "#url\n",
    "\n",
    "url = \"https://www.linkedin.com/in/mahathi-v-0563b6121/\"\n",
    "url"
   ]
  },
  {
   "cell_type": "code",
   "execution_count": 18,
   "id": "0309ac8f",
   "metadata": {},
   "outputs": [
    {
     "data": {
      "text/plain": [
       "<Response [999]>"
      ]
     },
     "execution_count": 18,
     "metadata": {},
     "output_type": "execute_result"
    }
   ],
   "source": [
    "res = requests.get(url)\n",
    "res"
   ]
  },
  {
   "cell_type": "code",
   "execution_count": null,
   "id": "498396a3",
   "metadata": {},
   "outputs": [],
   "source": []
  }
 ],
 "metadata": {
  "kernelspec": {
   "display_name": "Python 3",
   "language": "python",
   "name": "python3"
  },
  "language_info": {
   "codemirror_mode": {
    "name": "ipython",
    "version": 3
   },
   "file_extension": ".py",
   "mimetype": "text/x-python",
   "name": "python",
   "nbconvert_exporter": "python",
   "pygments_lexer": "ipython3",
   "version": "3.8.8"
  }
 },
 "nbformat": 4,
 "nbformat_minor": 5
}
